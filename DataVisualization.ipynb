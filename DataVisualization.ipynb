# We first import the car dataset from the IBM Cloud object it is hosted on
 path = 'https://cf-courses-data.s3.us.cloud-object-storage.appdomain.cloud/IBMDeveloperSkillsNetwork-DA0101EN-SkillsNetwork/labs/Data%20files/automobileEDA.csv'

# Now reading the data contained in the csv file to a data frame with pandas
import Pandas as pd
import numpy as np
df = pd.read_csv(path)

